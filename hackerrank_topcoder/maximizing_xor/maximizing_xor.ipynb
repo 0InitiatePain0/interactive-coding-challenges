{
 "cells": [
  {
   "cell_type": "markdown",
   "metadata": {},
   "source": [
    "<small><i>This notebook was prepared by [Donne Martin](http://donnemartin.com). Source and license info is on [GitHub](https://bit.ly/code-notes).</i></small>"
   ]
  },
  {
   "cell_type": "markdown",
   "metadata": {},
   "source": [
    "## Problem: Maximizing XOR\n",
    "\n",
    "From HackerRank: https://www.hackerrank.com/challenges/maximizing-xor\n",
    "\n",
    "* [Algorithm](#Algorithm)\n",
    "* [Code](#Code)"
   ]
  },
  {
   "cell_type": "markdown",
   "metadata": {},
   "source": [
    "## Algorithm\n",
    "\n",
    "* Set max to 0\n",
    "* For i in the range (lower, upper) inclusive\n",
    "    * For j in the range (lower, upper) inclusive\n",
    "        * Compare i ^ j with max, update max if needed\n",
    "* return max\n",
    "\n",
    "Complexity:\n",
    "* Time: O(n^2)\n",
    "* Space: O(1)"
   ]
  },
  {
   "cell_type": "markdown",
   "metadata": {},
   "source": [
    "## Code"
   ]
  },
  {
   "cell_type": "code",
   "execution_count": null,
   "metadata": {
    "collapsed": false
   },
   "outputs": [],
   "source": [
    "def max_xor(lower, upper):\n",
    "    result = 0\n",
    "    for l in xrange(lower, upper + 1):\n",
    "        for u in xrange(lower, upper + 1):\n",
    "            curr = l ^ u\n",
    "            if result < curr:\n",
    "                result = curr\n",
    "    return result\n",
    "\n",
    "lower = int(raw_input());\n",
    "upper = int(raw_input());\n",
    "\n",
    "result = max_xor(lower, upper);\n",
    "print(result)"
   ]
  }
 ],
 "metadata": {
  "kernelspec": {
   "display_name": "Python 2",
   "language": "python",
   "name": "python2"
  },
  "language_info": {
   "codemirror_mode": {
    "name": "ipython",
    "version": 2
   },
   "file_extension": ".py",
   "mimetype": "text/x-python",
   "name": "python",
   "nbconvert_exporter": "python",
   "pygments_lexer": "ipython2",
   "version": "2.7.10"
  }
 },
 "nbformat": 4,
 "nbformat_minor": 0
}
