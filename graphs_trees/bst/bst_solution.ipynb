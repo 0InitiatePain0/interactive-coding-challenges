{
 "cells": [
  {
   "cell_type": "markdown",
   "metadata": {},
   "source": [
    "<small><i>This notebook was prepared by [Donne Martin](https://github.com/donnemartin). Source and license info is on [GitHub](https://github.com/donnemartin/interactive-coding-challenges).</i></small>"
   ]
  },
  {
   "cell_type": "markdown",
   "metadata": {},
   "source": [
    "# Solution Notebook"
   ]
  },
  {
   "cell_type": "markdown",
   "metadata": {},
   "source": [
    "## Problem: Implement a binary search tree with an insert method.\n",
    "\n",
    "* [Constraints](#Constraints)\n",
    "* [Test Cases](#Test-Cases)\n",
    "* [Algorithm](#Algorithm)\n",
    "* [Code](#Code)\n",
    "* [Unit Test](#Unit-Test)"
   ]
  },
  {
   "cell_type": "markdown",
   "metadata": {},
   "source": [
    "## Constraints\n",
    "\n",
    "* Can we assume we are working with valid integers?\n",
    "    * Yes\n",
    "* Can we assume all left descendents <= n < all right descendents?\n",
    "    * Yes\n",
    "* For simplicity, can we use just a Node class without a wrapper Tree class?\n",
    "    * Yes"
   ]
  },
  {
   "cell_type": "markdown",
   "metadata": {},
   "source": [
    "## Test Cases\n",
    "\n",
    "### Insert\n",
    "\n",
    "Insert will be tested through the following traversal:\n",
    "\n",
    "### In-Order Traversal (Provided)\n",
    "\n",
    "* 5, 2, 8, 1, 3 -> 1, 2, 3, 5, 8\n",
    "* 1, 2, 3, 4, 5 -> 1, 2, 3, 4, 5"
   ]
  },
  {
   "cell_type": "markdown",
   "metadata": {},
   "source": [
    "## Algorithm\n",
    "\n",
    "### Insert\n",
    "\n",
    "* If the data is <= the current node's data\n",
    "    * If the current node's left child is None, set it to Node(data)\n",
    "    * Else, recursively call insert on the left child\n",
    "* Else\n",
    "    * If the current node's right child is None, set it to Node(data)\n",
    "    * Else, recursively call insert on the right child\n",
    "\n",
    "Complexity:\n",
    "\n",
    "* Time: O(log n)\n",
    "* Space: O(1)"
   ]
  },
  {
   "cell_type": "markdown",
   "metadata": {},
   "source": [
    "## Code"
   ]
  },
  {
   "cell_type": "code",
   "execution_count": 1,
   "metadata": {
    "collapsed": false
   },
   "outputs": [],
   "source": [
    "class Node(object):\n",
    "\n",
    "    def __init__(self, data):\n",
    "        self.data = data\n",
    "        self.left = None\n",
    "        self.right = None\n",
    "\n",
    "    def insert(self, data):\n",
    "        if data <= self.data:\n",
    "            if self.left is None:\n",
    "                self.left = Node(data)\n",
    "            else:\n",
    "                self.left.insert(data)\n",
    "        else:\n",
    "            if self.right is None:\n",
    "                self.right = Node(data)\n",
    "            else:\n",
    "                self.right.insert(data)\n",
    "\n",
    "    def in_order_traversal(self, visit_func):\n",
    "        if self.left is not None:\n",
    "            self.left.in_order_traversal(visit_func)\n",
    "        visit_func(self.data)\n",
    "        if self.right is not None:\n",
    "            self.right.in_order_traversal(visit_func)"
   ]
  },
  {
   "cell_type": "markdown",
   "metadata": {},
   "source": [
    "## Unit Test"
   ]
  },
  {
   "cell_type": "code",
   "execution_count": 2,
   "metadata": {
    "collapsed": false
   },
   "outputs": [],
   "source": [
    "%run ../utils/captured_output.py"
   ]
  },
  {
   "cell_type": "code",
   "execution_count": 3,
   "metadata": {
    "collapsed": false
   },
   "outputs": [
    {
     "name": "stdout",
     "output_type": "stream",
     "text": [
      "Overwriting test_bst.py\n"
     ]
    }
   ],
   "source": [
    "%%writefile test_bst.py\n",
    "from __future__ import print_function\n",
    "from nose.tools import assert_equal\n",
    "\n",
    "\n",
    "class TestTree(object):\n",
    "\n",
    "    def test_tree(self):\n",
    "        root = Node(5)\n",
    "        root.insert(2)\n",
    "        root.insert(8)\n",
    "        root.insert(1)\n",
    "        root.insert(3)\n",
    "\n",
    "        with captured_output() as (out, err):\n",
    "            root.in_order_traversal(sys.stdout.write)\n",
    "            assert_equal(out.getvalue().strip(), '12358')\n",
    "\n",
    "        root = Node(1)\n",
    "        root.insert(2)\n",
    "        root.insert(3)\n",
    "        root.insert(4)\n",
    "        root.insert(5)\n",
    "\n",
    "        with captured_output() as (out, err):\n",
    "            root.in_order_traversal(sys.stdout.write)\n",
    "            assert_equal(out.getvalue().strip(), '12345')\n",
    "\n",
    "        print('Success: test_tree')\n",
    "\n",
    "\n",
    "def main():\n",
    "    test = TestTree()\n",
    "    test.test_tree()\n",
    "\n",
    "\n",
    "if __name__ == '__main__':\n",
    "    main()"
   ]
  },
  {
   "cell_type": "code",
   "execution_count": 4,
   "metadata": {
    "collapsed": false
   },
   "outputs": [
    {
     "name": "stdout",
     "output_type": "stream",
     "text": [
      "Success: test_tree\n"
     ]
    }
   ],
   "source": [
    "%run -i test_bst.py"
   ]
  }
 ],
 "metadata": {
  "kernelspec": {
   "display_name": "Python 2",
   "language": "python",
   "name": "python2"
  },
  "language_info": {
   "codemirror_mode": {
    "name": "ipython",
    "version": 2
   },
   "file_extension": ".py",
   "mimetype": "text/x-python",
   "name": "python",
   "nbconvert_exporter": "python",
   "pygments_lexer": "ipython2",
   "version": "2.7.10"
  }
 },
 "nbformat": 4,
 "nbformat_minor": 0
}
