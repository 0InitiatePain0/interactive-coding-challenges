{
 "cells": [
  {
   "cell_type": "markdown",
   "metadata": {},
   "source": [
    "<small><i>This notebook was prepared by [Donne Martin](https://github.com/donnemartin). Source and license info is on [GitHub](https://github.com/donnemartin/interactive-coding-challenges).</i></small>"
   ]
  },
  {
   "cell_type": "markdown",
   "metadata": {},
   "source": [
    "# Solution Notebook"
   ]
  },
  {
   "cell_type": "markdown",
   "metadata": {},
   "source": [
    "## Problem: Implement breadth-first search on a binary tree.\n",
    "\n",
    "* [Constraints](#Constraints)\n",
    "* [Test Cases](#Test-Cases)\n",
    "* [Algorithm](#Algorithm)\n",
    "* [Code](#Code)\n",
    "* [Unit Test](#Unit-Test)"
   ]
  },
  {
   "cell_type": "markdown",
   "metadata": {},
   "source": [
    "## Constraints\n",
    "\n",
    "* Can we assume we already have a Node class with an insert method?\n",
    "    * Yes\n",
    "* Can we use collections.deque for the queue?\n",
    "    * Yes"
   ]
  },
  {
   "cell_type": "markdown",
   "metadata": {},
   "source": [
    "## Test Cases\n",
    "\n",
    "### Breadth-First Search\n",
    "* 5, 2, 8, 1, 3 -> 5, 2, 8, 1, 3"
   ]
  },
  {
   "cell_type": "markdown",
   "metadata": {},
   "source": [
    "## Algorithm\n",
    "\n",
    "* Initialize queue with root\n",
    "* While queue is not empty\n",
    "    * Dequeue and print the node\n",
    "    * Queue the left child\n",
    "    * Queue the right child\n",
    "\n",
    "Complexity:\n",
    "* Time: O(n)\n",
    "* Space: O(n)"
   ]
  },
  {
   "cell_type": "markdown",
   "metadata": {},
   "source": [
    "## Code"
   ]
  },
  {
   "cell_type": "code",
   "execution_count": 1,
   "metadata": {
    "collapsed": false
   },
   "outputs": [],
   "source": [
    "from collections import deque\n",
    "\n",
    "\n",
    "class Node(object):\n",
    "\n",
    "    def __init__(self, data):\n",
    "        self.data = data\n",
    "        self.left = None\n",
    "        self.right = None\n",
    "\n",
    "    def insert(self, data):\n",
    "        if data <= self.data:\n",
    "            if self.left is None:\n",
    "                self.left = Node(data)\n",
    "            else:\n",
    "                self.left.insert(data)\n",
    "        else:\n",
    "            if self.right is None:\n",
    "                self.right = Node(data)\n",
    "            else:\n",
    "                self.right.insert(data)\n",
    "\n",
    "    def bfs(self, visit_func):\n",
    "        queue = deque()\n",
    "        queue.append(self)\n",
    "        while len(queue) > 0:\n",
    "            node = queue.popleft()\n",
    "            visit_func(node.data)\n",
    "            if node.left is not None:\n",
    "                queue.append(node.left)\n",
    "            if node.right is not None:\n",
    "                queue.append(node.right)"
   ]
  },
  {
   "cell_type": "markdown",
   "metadata": {},
   "source": [
    "## Unit Test"
   ]
  },
  {
   "cell_type": "code",
   "execution_count": 2,
   "metadata": {
    "collapsed": false
   },
   "outputs": [],
   "source": [
    "%run ../utils/captured_output.py"
   ]
  },
  {
   "cell_type": "code",
   "execution_count": 3,
   "metadata": {
    "collapsed": false
   },
   "outputs": [
    {
     "name": "stdout",
     "output_type": "stream",
     "text": [
      "Overwriting test_bfs.py\n"
     ]
    }
   ],
   "source": [
    "%%writefile test_bfs.py\n",
    "from __future__ import print_function\n",
    "from nose.tools import assert_equal\n",
    "\n",
    "\n",
    "class TestBfs(object):\n",
    "\n",
    "    def test_bfs(self):\n",
    "        root = Node(5)\n",
    "        root.insert(2)\n",
    "        root.insert(8)\n",
    "        root.insert(1)\n",
    "        root.insert(3)\n",
    "\n",
    "        with captured_output() as (out, err):\n",
    "            root.bfs(sys.stdout.write)\n",
    "            assert_equal(out.getvalue().strip(), '52813')\n",
    "\n",
    "        print('Success: test_bfs')\n",
    "\n",
    "\n",
    "def main():\n",
    "    test = TestBfs()\n",
    "    test.test_bfs()\n",
    "\n",
    "\n",
    "if __name__ == '__main__':\n",
    "    main()"
   ]
  },
  {
   "cell_type": "code",
   "execution_count": 4,
   "metadata": {
    "collapsed": false
   },
   "outputs": [
    {
     "name": "stdout",
     "output_type": "stream",
     "text": [
      "Success: test_bfs\n"
     ]
    }
   ],
   "source": [
    "%run -i test_bfs.py"
   ]
  }
 ],
 "metadata": {
  "kernelspec": {
   "display_name": "Python 2",
   "language": "python",
   "name": "python2"
  },
  "language_info": {
   "codemirror_mode": {
    "name": "ipython",
    "version": 2
   },
   "file_extension": ".py",
   "mimetype": "text/x-python",
   "name": "python",
   "nbconvert_exporter": "python",
   "pygments_lexer": "ipython2",
   "version": "2.7.10"
  }
 },
 "nbformat": 4,
 "nbformat_minor": 0
}
