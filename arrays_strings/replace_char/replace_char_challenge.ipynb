{
 "cells": [
  {
   "cell_type": "markdown",
   "metadata": {},
   "source": [
    "<small><i>This notebook was prepared by [Donne Martin](http://donnemartin.com). Source and license info is on [GitHub](https://github.com/donnemartin/interactive-coding-challenges).</i></small>"
   ]
  },
  {
   "cell_type": "markdown",
   "metadata": {},
   "source": [
    "# Challenge Notebook"
   ]
  },
  {
   "cell_type": "markdown",
   "metadata": {},
   "source": [
    "## Problem: Given a string, replace all spaces with '%20', in-place\n",
    "\n",
    "* [Constraints](#Constraints)\n",
    "* [Test Cases](#Test-Cases)\n",
    "* [Algorithm](#Algorithm)\n",
    "* [Code](#Code)\n",
    "* [Unit Test](#Unit-Test)\n",
    "* [Solution Notebook](#Solution-Notebook)"
   ]
  },
  {
   "cell_type": "markdown",
   "metadata": {},
   "source": [
    "## Constraints\n",
    "\n",
    "*Problem statements are sometimes ambiguous.  Identifying constraints and stating assumptions can help to ensure you code the intended solution.*\n",
    "\n",
    "* Can we assume the string is ASCII?\n",
    "    * Yes\n",
    "    * Note: Unicode strings could require special handling depending on your language\n",
    "* Is there enough space in the data structure for this operation?\n",
    "    * Yes\n",
    "* Since Python strings are immutable and we are asked to do this in-place, can I use a bytearray or a list instead?\n",
    "    * Yes"
   ]
  },
  {
   "cell_type": "markdown",
   "metadata": {},
   "source": [
    "## Test Cases\n",
    "\n",
    "* None -> None\n",
    "* ' ' -> '%20'\n",
    "* ' foo bar ' -> '%20foo%20bar%20'\n",
    "* 'foo' -> 'foo'"
   ]
  },
  {
   "cell_type": "markdown",
   "metadata": {},
   "source": [
    "## Algorithm\n",
    "\n",
    "Refer to the [Solution Notebook](http://nbviewer.ipython.org/github/donnemartin/interactive-coding-challenges/blob/master/arrays_strings/replace_char/replace_char_solution.ipynb).  If you are stuck and need a hint, the solution notebook's algorithm discussion might be a good place to start."
   ]
  },
  {
   "cell_type": "markdown",
   "metadata": {},
   "source": [
    "## Code"
   ]
  },
  {
   "cell_type": "code",
   "execution_count": null,
   "metadata": {
    "collapsed": false
   },
   "outputs": [],
   "source": [
    "def encode_spaces(string, length):\n",
    "    # TODO: Implement me\n",
    "    pass"
   ]
  },
  {
   "cell_type": "markdown",
   "metadata": {},
   "source": [
    "## Unit Test"
   ]
  },
  {
   "cell_type": "markdown",
   "metadata": {},
   "source": [
    "\n",
    "\n",
    "**The following unit test is expected to fail until you solve the challenge.**"
   ]
  },
  {
   "cell_type": "code",
   "execution_count": null,
   "metadata": {
    "collapsed": false
   },
   "outputs": [],
   "source": [
    "# %load test_replace_char.py\n",
    "from nose.tools import assert_equal\n",
    "\n",
    "\n",
    "class TestReplace(object):\n",
    "    \n",
    "    def test_replace_char(self, func):\n",
    "        # | are used to satisfy the constraint that\n",
    "        # there is enough space in the string to\n",
    "        # replace ' ' with '%20'\n",
    "        # For each space, add two ||\n",
    "        str0 = None\n",
    "        str1 = bytearray(' ||')\n",
    "        str2 = bytearray(' foo bar ||||||')\n",
    "        str3 = bytearray('foo')\n",
    "        func(str0, 0)\n",
    "        func(str1, 1)\n",
    "        func(str2, 9)\n",
    "        func(str3, 3)\n",
    "        assert_equal(str0, None)\n",
    "        assert_equal(str1, '%20')\n",
    "        assert_equal(str2, '%20foo%20bar%20')\n",
    "        assert_equal(str3, 'foo')\n",
    "        print('Success: test_replace_char')\n",
    "\n",
    "def main():\n",
    "    test = TestReplace()\n",
    "    test.test_replace_char(encode_spaces)\n",
    "    \n",
    "if __name__ == '__main__':\n",
    "    main()"
   ]
  },
  {
   "cell_type": "markdown",
   "metadata": {},
   "source": [
    "## Solution Notebook\n",
    "\n",
    "Review the [Solution Notebook](http://nbviewer.ipython.org/github/donnemartin/interactive-coding-challenges/blob/master/arrays_strings/replace_char/replace_char_solution.ipynb) for a discussion on algorithms and code solutions."
   ]
  }
 ],
 "metadata": {
  "kernelspec": {
   "display_name": "Python 2",
   "language": "python",
   "name": "python2"
  },
  "language_info": {
   "codemirror_mode": {
    "name": "ipython",
    "version": 2
   },
   "file_extension": ".py",
   "mimetype": "text/x-python",
   "name": "python",
   "nbconvert_exporter": "python",
   "pygments_lexer": "ipython2",
   "version": "2.7.10"
  }
 },
 "nbformat": 4,
 "nbformat_minor": 0
}
