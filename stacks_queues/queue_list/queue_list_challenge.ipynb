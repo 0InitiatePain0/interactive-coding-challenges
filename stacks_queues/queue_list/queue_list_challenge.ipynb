{
 "cells": [
  {
   "cell_type": "markdown",
   "metadata": {},
   "source": [
    "<small><i>This notebook was prepared by [Donne Martin](http://donnemartin.com). Source and license info is on [GitHub](https://github.com/donnemartin/coding-challenges).</i></small>"
   ]
  },
  {
   "cell_type": "markdown",
   "metadata": {},
   "source": [
    "# Challenge Notebook"
   ]
  },
  {
   "cell_type": "markdown",
   "metadata": {},
   "source": [
    "## Problem: Implement a queue with enqueue and dequeue methods using a linked list.\n",
    "\n",
    "* [Constraints](#Constraints)\n",
    "* [Test Cases](#Test-Cases)\n",
    "* [Algorithm](#Algorithm)\n",
    "* [Code](#Code)\n",
    "* [Unit Test](#Unit-Test)\n",
    "* [Pythonic-Code](#Pythonic-Code)\n",
    "* [Solution Notebook](#Solution-Notebook)"
   ]
  },
  {
   "cell_type": "markdown",
   "metadata": {},
   "source": [
    "## Constraints\n",
    "\n",
    "*Problem statements are sometimes ambiguous.  Identifying constraints and stating assumptions can help to ensure you code the intended solution.*\n",
    "\n",
    "* If there is one item in the list, do you expect the first and last pointers to both point to it?\n",
    "    * Yes\n",
    "* If there are no items on the list, do you expect the first and last pointers to be NULL?\n",
    "    * Yes\n",
    "* If you dequeue on an empty queue, does that return None?\n",
    "    * Yes"
   ]
  },
  {
   "cell_type": "markdown",
   "metadata": {},
   "source": [
    "## Test Cases\n",
    "\n",
    "### Enqueue\n",
    "\n",
    "* Enqueue to an empty queue\n",
    "* Enqueue to a non-empty queue\n",
    "\n",
    "### Dequeue\n",
    "\n",
    "* Dequeue an empty queue -> None\n",
    "* Dequeue a queue with one element\n",
    "* Dequeue a queue with more than one element"
   ]
  },
  {
   "cell_type": "markdown",
   "metadata": {},
   "source": [
    "## Algorithm\n",
    "\n",
    "Refer to the [Solution Notebook](http://nbviewer.ipython.org/github/donnemartin/coding-challenges/blob/master/stacks_queues/queue_list/queue_list_solution.ipynb).  If you are stuck and need a hint, the solution notebook's algorithm discussion might be a good place to start."
   ]
  },
  {
   "cell_type": "markdown",
   "metadata": {},
   "source": [
    "## Code"
   ]
  },
  {
   "cell_type": "code",
   "execution_count": null,
   "metadata": {
    "collapsed": false
   },
   "outputs": [],
   "source": [
    "class Node(object):\n",
    "    \n",
    "    def __init__(self, data):\n",
    "        self.data = data\n",
    "        self.next = None\n",
    "\n",
    "class Queue(object):\n",
    "    \n",
    "    def __init__(self):\n",
    "        self.first = None\n",
    "        self.last = None\n",
    "\n",
    "    def enqueue(self, data):\n",
    "        node = Node(data)\n",
    "        if self.first is None and self.last is None:\n",
    "            self.first = node\n",
    "            self.last = node\n",
    "        else:\n",
    "            self.last.next = node\n",
    "            self.last = node\n",
    "\n",
    "    def dequeue(self):\n",
    "        # Empty list\n",
    "        if self.first is None and self.last is None:\n",
    "            return None\n",
    "        \n",
    "        # Remove only element from a one element list\n",
    "        elif self.first == self.last:\n",
    "            data = self.first.data\n",
    "            self.first = None\n",
    "            self.last = None\n",
    "            return data\n",
    "        else:\n",
    "            data = self.first.data\n",
    "            self.first = self.first.next\n",
    "            return data"
   ]
  },
  {
   "cell_type": "markdown",
   "metadata": {},
   "source": [
    "## Unit Test\n",
    "\n",
    "\n",
    "\n",
    "**The following unit test is expected to fail until you solve the challenge.**"
   ]
  },
  {
   "cell_type": "code",
   "execution_count": null,
   "metadata": {
    "collapsed": false
   },
   "outputs": [],
   "source": [
    "# %load test_queue_list.py\n",
    "from nose.tools import assert_equal\n",
    "\n",
    "\n",
    "class TestQueue(object):\n",
    "    \n",
    "    # TODO: It would be better if we had unit tests for each\n",
    "    # method in addition to the following end-to-end test\n",
    "    def test_end_to_end(self):\n",
    "        print('Test: Dequeue an empty queue')\n",
    "        queue = Queue()\n",
    "        assert_equal(queue.dequeue(), None)\n",
    "\n",
    "        print('Test: Enqueue to an empty queue')\n",
    "        queue.enqueue(1)\n",
    "\n",
    "        print('Test: Dequeue a queue with one element')\n",
    "        assert_equal(queue.dequeue(), 1)\n",
    "\n",
    "        print('Test: Enqueue to a non-empty queue')\n",
    "        queue.enqueue(2)\n",
    "        queue.enqueue(3)\n",
    "        queue.enqueue(4)\n",
    "\n",
    "        print('Test: Dequeue a queue with more than one element')\n",
    "        assert_equal(queue.dequeue(), 2)\n",
    "        assert_equal(queue.dequeue(), 3)\n",
    "        assert_equal(queue.dequeue(), 4)\n",
    "        \n",
    "        print('Success: test_end_to_end')\n",
    "\n",
    "def main():\n",
    "    test = TestQueue()\n",
    "    test.test_end_to_end()\n",
    "    \n",
    "if __name__ == '__main__':\n",
    "    main()"
   ]
  },
  {
   "cell_type": "markdown",
   "metadata": {},
   "source": [
    "## Solution Notebook\n",
    "\n",
    "Review the [Solution Notebook](http://nbviewer.ipython.org/github/donnemartin/coding-challenges/blob/master/stacks_queues/queue_list/queue_list_solution.ipynb) for a discussion on algorithms and code solutions."
   ]
  }
 ],
 "metadata": {
  "kernelspec": {
   "display_name": "Python 2",
   "language": "python",
   "name": "python2"
  },
  "language_info": {
   "codemirror_mode": {
    "name": "ipython",
    "version": 2
   },
   "file_extension": ".py",
   "mimetype": "text/x-python",
   "name": "python",
   "nbconvert_exporter": "python",
   "pygments_lexer": "ipython2",
   "version": "2.7.10"
  }
 },
 "nbformat": 4,
 "nbformat_minor": 0
}
