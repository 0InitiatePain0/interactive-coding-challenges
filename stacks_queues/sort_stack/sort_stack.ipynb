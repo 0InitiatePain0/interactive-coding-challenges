{
 "cells": [
  {
   "cell_type": "markdown",
   "metadata": {},
   "source": [
    "<small><i>This notebook was prepared by [Donne Martin](http://donnemartin.com). Source and license info is on [GitHub](https://bit.ly/code-notes).</i></small>"
   ]
  },
  {
   "cell_type": "markdown",
   "metadata": {},
   "source": [
    "## Problem: Sort a stack.  You can use another stack as a buffer.\n",
    "\n",
    "* [Constraints and Assumptions](#Constraints-and-Assumptions)\n",
    "* [Test Cases](#Test-Cases)\n",
    "* [Algorithm](#Algorithm)\n",
    "* [Code](#Code)\n",
    "* [Unit Test](#Unit-Test)"
   ]
  },
  {
   "cell_type": "markdown",
   "metadata": {},
   "source": [
    "## Constraints\n",
    "\n",
    "*Problem statements are often intentionally ambiguous.  Identifying constraints and stating assumptions can help to ensure you code the intended solution.*\n",
    "\n",
    "* When sorted, should the largest element be at the top or bottom?\n",
    "    * Top\n",
    "* Can you have duplicate values like 5, 5?\n",
    "    * Yes\n",
    "* Can we assume we already have a stack class that can be used for this problem?\n",
    "    * Yes"
   ]
  },
  {
   "cell_type": "markdown",
   "metadata": {},
   "source": [
    "## Test Cases\n",
    "\n",
    "* Empty stack\n",
    "* One element stack\n",
    "* Two or more element stack (general case)\n",
    "* Already sorted stack"
   ]
  },
  {
   "cell_type": "markdown",
   "metadata": {},
   "source": [
    "## Algorithm\n",
    "\n",
    "* Our buffer will hold elements in reverse sorted order, smallest at the top\n",
    "* Store the current top element in a temp variable\n",
    "* While stack is not empty\n",
    "    * While buffer is empty or buffer top is > than temp\n",
    "        * Move buffer top to stack\n",
    "    * Move temp to top of buffer\n",
    "* Return buffer\n",
    "\n",
    "Complexity:\n",
    "* Time: O(n^2)\n",
    "* Space: O(n)"
   ]
  },
  {
   "cell_type": "markdown",
   "metadata": {},
   "source": [
    "## Code"
   ]
  },
  {
   "cell_type": "code",
   "execution_count": 1,
   "metadata": {
    "collapsed": true
   },
   "outputs": [],
   "source": [
    "%run stack.py"
   ]
  },
  {
   "cell_type": "code",
   "execution_count": 2,
   "metadata": {
    "collapsed": false
   },
   "outputs": [],
   "source": [
    "class MyStack(Stack):\n",
    "    def sort(self):\n",
    "        buff = MyStack()\n",
    "        while not self.is_empty():\n",
    "            temp = self.pop()\n",
    "            while not buff.is_empty() and buff.peek() > temp:\n",
    "                self.push(buff.pop())\n",
    "            buff.push(temp)\n",
    "        return buff"
   ]
  },
  {
   "cell_type": "markdown",
   "metadata": {},
   "source": [
    "## Unit Test\n",
    "\n",
    "*It is important to identify and run through general and edge cases from the [Test Cases](#Test-Cases) section by hand.  You generally will not be asked to write a unit test like what is shown below.*"
   ]
  },
  {
   "cell_type": "code",
   "execution_count": 3,
   "metadata": {
    "collapsed": false
   },
   "outputs": [
    {
     "name": "stdout",
     "output_type": "stream",
     "text": [
      "Test: Empty stack\n",
      "Test: One element stack\n",
      "Test: Two or more element stack (general case)\n",
      "Success: test_sort_stack\n"
     ]
    }
   ],
   "source": [
    "from random import randint\n",
    "from nose.tools import assert_equal\n",
    "\n",
    "class Test(object):\n",
    "    def get_sorted_stack(self, numbers):\n",
    "        stack = MyStack()\n",
    "        for x in numbers:\n",
    "            stack.push(x)\n",
    "        sorted_stack = stack.sort()\n",
    "        return sorted_stack\n",
    "\n",
    "    def test_sort_stack(self):\n",
    "        print('Test: Empty stack')\n",
    "        sorted_stack = self.get_sorted_stack([])\n",
    "        assert_equal(sorted_stack.pop(), None)\n",
    "\n",
    "        print('Test: One element stack')\n",
    "        sorted_stack = self.get_sorted_stack([1])\n",
    "        assert_equal(sorted_stack.pop(), 1)\n",
    "\n",
    "        print('Test: Two or more element stack (general case)')\n",
    "        num_items = 10\n",
    "        numbers = [randint(0, 10) for x in xrange(num_items)]\n",
    "        sorted_stack = self.get_sorted_stack(numbers)\n",
    "        sorted_numbers = []\n",
    "        for _ in xrange(num_items):\n",
    "            sorted_numbers.append(sorted_stack.pop())\n",
    "        assert_equal(sorted_numbers, sorted(numbers, reverse=True))\n",
    "        \n",
    "        print('Success: test_sort_stack')\n",
    "\n",
    "if __name__ == '__main__':\n",
    "    test = Test()\n",
    "    test.test_sort_stack()"
   ]
  }
 ],
 "metadata": {
  "kernelspec": {
   "display_name": "Python 2",
   "language": "python",
   "name": "python2"
  },
  "language_info": {
   "codemirror_mode": {
    "name": "ipython",
    "version": 2
   },
   "file_extension": ".py",
   "mimetype": "text/x-python",
   "name": "python",
   "nbconvert_exporter": "python",
   "pygments_lexer": "ipython2",
   "version": "2.7.10"
  }
 },
 "nbformat": 4,
 "nbformat_minor": 0
}
