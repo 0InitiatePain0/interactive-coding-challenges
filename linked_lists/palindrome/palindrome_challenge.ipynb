{
 "cells": [
  {
   "cell_type": "markdown",
   "metadata": {},
   "source": [
    "<small><i>This notebook was prepared by [Donne Martin](http://donnemartin.com). Source and license info is on [GitHub](https://bit.ly/code-notes).</i></small>"
   ]
  },
  {
   "cell_type": "markdown",
   "metadata": {},
   "source": [
    "## Problem: Determine if a linked list is a palindrome.\n",
    "\n",
    "* [Constraints](#Constraints)\n",
    "* [Test Cases](#Test-Cases)\n",
    "* [Algorithm](#Algorithm)\n",
    "* [Code](#Code)\n",
    "* [Unit Test](#Unit-Test)"
   ]
  },
  {
   "cell_type": "markdown",
   "metadata": {},
   "source": [
    "## Constraints\n",
    "\n",
    "*Problem statements are often intentionally ambiguous.  Identifying constraints and stating assumptions can help to ensure you code the intended solution.*\n",
    "\n",
    "* Is a single character or number a palindrome?\n",
    "    * No\n",
    "* Can we assume we already have a linked list class that can be used for this problem?\n",
    "    * Yes"
   ]
  },
  {
   "cell_type": "markdown",
   "metadata": {},
   "source": [
    "## Test Cases\n",
    "\n",
    "\n",
    "* Empty list -> False\n",
    "* Single element list -> False\n",
    "* Two or more element list, not a palindrome -> False\n",
    "* General case: Palindrome with even length -> True\n",
    "* General case: Palindrome with odd length -> True"
   ]
  },
  {
   "cell_type": "markdown",
   "metadata": {},
   "source": [
    "## Algorithm\n",
    "\n",
    "Refer to the solution notebook.  If you are stuck and need a hint, the solution notebook's algorithm discussion might be a good place to start."
   ]
  },
  {
   "cell_type": "markdown",
   "metadata": {},
   "source": [
    "## Code"
   ]
  },
  {
   "cell_type": "code",
   "execution_count": null,
   "metadata": {
    "collapsed": false
   },
   "outputs": [],
   "source": [
    "%run ../linked_list/linked_list.py"
   ]
  },
  {
   "cell_type": "code",
   "execution_count": null,
   "metadata": {
    "collapsed": false
   },
   "outputs": [],
   "source": [
    "class MyLinkedList(LinkedList):\n",
    "    \n",
    "    def is_palindrome(self):\n",
    "        # TODO: Implement me\n",
    "        pass"
   ]
  },
  {
   "cell_type": "markdown",
   "metadata": {},
   "source": [
    "## Unit Test"
   ]
  },
  {
   "cell_type": "markdown",
   "metadata": {},
   "source": [
    "*It is important to identify and run through general and edge cases from the [Test Cases](#Test-Cases) section by hand.  You generally will not be asked to write a unit test like what is shown below.*"
   ]
  },
  {
   "cell_type": "code",
   "execution_count": null,
   "metadata": {
    "collapsed": false
   },
   "outputs": [],
   "source": [
    "# %load test_palindrome.py\n",
    "from nose.tools import assert_equal\n",
    "\n",
    "\n",
    "class TestPalindrome(object):\n",
    "    \n",
    "    def test_palindrome(self):\n",
    "        print('Test: Empty list')\n",
    "        linked_list = MyLinkedList()\n",
    "        assert_equal(linked_list.is_palindrome(), False)\n",
    "\n",
    "        print('Test: Single element list')\n",
    "        head = Node(1)\n",
    "        linked_list = MyLinkedList(head)\n",
    "        assert_equal(linked_list.is_palindrome(), False)\n",
    "\n",
    "        print('Test: Two element list, not a palindrome')\n",
    "        linked_list.append(2)\n",
    "        assert_equal(linked_list.is_palindrome(), False)\n",
    "\n",
    "        print('Test: General case: Palindrome with even length')\n",
    "        head = Node('a')\n",
    "        linked_list = MyLinkedList(head)\n",
    "        linked_list.append('b')\n",
    "        linked_list.append('b')\n",
    "        linked_list.append('a')\n",
    "        assert_equal(linked_list.is_palindrome(), True)\n",
    "\n",
    "        print('Test: General case: Palindrome with odd length')\n",
    "        head = Node(1)\n",
    "        linked_list = MyLinkedList(head)\n",
    "        linked_list.append(2)\n",
    "        linked_list.append(3)\n",
    "        linked_list.append(2)\n",
    "        linked_list.append(1)\n",
    "        assert_equal(linked_list.is_palindrome(), True)\n",
    "        \n",
    "        print('Success: test_palindrome')\n",
    "\n",
    "def main():\n",
    "    test = TestPalindrome()\n",
    "    test.test_palindrome()\n",
    "\n",
    "if __name__ == '__main__':\n",
    "    main()"
   ]
  }
 ],
 "metadata": {
  "kernelspec": {
   "display_name": "Python 2",
   "language": "python",
   "name": "python2"
  },
  "language_info": {
   "codemirror_mode": {
    "name": "ipython",
    "version": 2
   },
   "file_extension": ".py",
   "mimetype": "text/x-python",
   "name": "python",
   "nbconvert_exporter": "python",
   "pygments_lexer": "ipython2",
   "version": "2.7.10"
  }
 },
 "nbformat": 4,
 "nbformat_minor": 0
}
