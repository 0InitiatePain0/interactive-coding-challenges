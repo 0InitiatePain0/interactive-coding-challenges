{
 "cells": [
  {
   "cell_type": "markdown",
   "metadata": {},
   "source": [
    "<small><i>This notebook was prepared by [Donne Martin](http://donnemartin.com). Source and license info is on [GitHub](https://bit.ly/code-notes).</i></small>"
   ]
  },
  {
   "cell_type": "markdown",
   "metadata": {},
   "source": [
    "## Problem: Remove duplicates from a linked list\n",
    "\n",
    "* [Constraints](#Constraints)\n",
    "* [Test Cases](#Test-Cases)\n",
    "* [Algorithm: Hash Map Lookup](#Algorithm:-Hash-Map-Lookup)\n",
    "* [Code: Hash Map Lookup](#Code:-Hash-Map-Lookup)\n",
    "* [Algorithm: In-Place](#Algorithm:-In-Place)\n",
    "* [Code: In-Place](#Code:-In-Place)\n",
    "* [Unit Test](#Unit-Test)"
   ]
  },
  {
   "cell_type": "markdown",
   "metadata": {},
   "source": [
    "## Constraints\n",
    "\n",
    "*Problem statements are often intentionally ambiguous.  Identifying constraints and stating assumptions can help to ensure you code the intended solution.*\n",
    "\n",
    "* Is this a singly or doubly linked list?\n",
    "    * Singly\n",
    "* Can you insert NULL values in the list?\n",
    "    * No\n",
    "* Can you use additional data structures?\n",
    "    * Implement both solutions\n",
    "* Can we assume we already have a linked list class that can be used for this problem?\n",
    "    * Yes"
   ]
  },
  {
   "cell_type": "markdown",
   "metadata": {},
   "source": [
    "## Test Cases\n",
    "\n",
    "* Empty linked list\n",
    "* One element linked list\n",
    "* Multiple elements\n",
    "* No duplicates\n",
    "* One or more duplicates"
   ]
  },
  {
   "cell_type": "markdown",
   "metadata": {},
   "source": [
    "## Algorithm: Hash Map Lookup\n",
    "\n",
    "* For each node\n",
    "    * If the node's value is in the hash map\n",
    "        * Delete the node\n",
    "    * Else\n",
    "        * Add node's value to the hash map\n",
    "\n",
    "Complexity:\n",
    "* Time: O(n)\n",
    "* Space: O(m) where m is the number of values in the hash map\n",
    "\n",
    "Note:\n",
    "* Deletion requires two pointers, one to the previous node and one to the current node"
   ]
  },
  {
   "cell_type": "markdown",
   "metadata": {},
   "source": [
    "## Code: Hash Map Lookup"
   ]
  },
  {
   "cell_type": "code",
   "execution_count": 1,
   "metadata": {
    "collapsed": true
   },
   "outputs": [],
   "source": [
    "%run linked_list.py"
   ]
  },
  {
   "cell_type": "code",
   "execution_count": 2,
   "metadata": {
    "collapsed": false
   },
   "outputs": [],
   "source": [
    "class MyLinkedList(LinkedList):\n",
    "    def remove_dupes(self):\n",
    "        seen_data = set()\n",
    "        curr = self.head\n",
    "        prev = None\n",
    "        while curr is not None:\n",
    "            if curr.data in seen_data:\n",
    "                prev.next = curr.next\n",
    "            else:\n",
    "                seen_data.add(curr.data)\n",
    "                prev = curr\n",
    "            curr = curr.next"
   ]
  },
  {
   "cell_type": "markdown",
   "metadata": {},
   "source": [
    "## Algorithm: In-Place\n",
    "\n",
    "* For each node\n",
    "    * Compare node with every other node\n",
    "        * If the node's value is in the hash map\n",
    "            * Delete the node\n",
    "        * Else\n",
    "            * Add node's value to the hash map\n",
    "\n",
    "Complexity:\n",
    "* Time: O(n^2)\n",
    "* Space: In-place\n",
    "\n",
    "Note:\n",
    "* Deletion requires two pointers, one to the previous node and one to the current node\n",
    "* We'll need to use a 'runner' to check every other node and compare it to the current node"
   ]
  },
  {
   "cell_type": "markdown",
   "metadata": {},
   "source": [
    "## Code: In-Place"
   ]
  },
  {
   "cell_type": "code",
   "execution_count": 3,
   "metadata": {
    "collapsed": false
   },
   "outputs": [],
   "source": [
    "class MyLinkedListAlt(LinkedList):\n",
    "    def remove_dupes(self):\n",
    "        curr = self.head\n",
    "        while curr is not None:\n",
    "            runner = curr\n",
    "            while runner.next is not None:\n",
    "                if runner.next.data == curr.data:\n",
    "                    runner.next = runner.next.next\n",
    "                else:\n",
    "                    runner = runner.next\n",
    "            curr = curr.next"
   ]
  },
  {
   "cell_type": "markdown",
   "metadata": {},
   "source": [
    "## Unit Test"
   ]
  },
  {
   "cell_type": "markdown",
   "metadata": {},
   "source": [
    "*It is important to identify and run through general and edge cases from the [Test Cases](#Test-Cases) section by hand.  You generally will not be asked to write a unit test like what is shown below.*"
   ]
  },
  {
   "cell_type": "code",
   "execution_count": 4,
   "metadata": {
    "collapsed": false
   },
   "outputs": [
    {
     "name": "stdout",
     "output_type": "stream",
     "text": [
      "Test: Empty list\n",
      "Test: One element list\n",
      "Test: General case, duplicates\n",
      "Test: General case, no duplicates\n",
      "Success: test_remove_dupes\n",
      "\n",
      "Test: Empty list\n",
      "Test: One element list\n",
      "Test: General case, duplicates\n",
      "Test: General case, no duplicates\n",
      "Success: test_remove_dupes\n",
      "\n"
     ]
    }
   ],
   "source": [
    "from nose.tools import assert_equal\n",
    "\n",
    "class Test(object):\n",
    "    def test_remove_dupes(self, linked_list):\n",
    "        print('Test: Empty list')\n",
    "        linked_list.remove_dupes()\n",
    "        assert_equal(linked_list.get_all_data(), [])\n",
    "\n",
    "        print('Test: One element list')\n",
    "        linked_list.insert_to_front(2)\n",
    "        linked_list.remove_dupes()\n",
    "        assert_equal(linked_list.get_all_data(), [2])\n",
    "\n",
    "        print('Test: General case, duplicates')\n",
    "        linked_list.insert_to_front(1)\n",
    "        linked_list.insert_to_front(3)\n",
    "        linked_list.insert_to_front(1)\n",
    "        linked_list.insert_to_front(1)\n",
    "        linked_list.remove_dupes()\n",
    "        assert_equal(linked_list.get_all_data(), [1, 3, 2])\n",
    "\n",
    "        print('Test: General case, no duplicates')\n",
    "        linked_list.remove_dupes()\n",
    "        assert_equal(linked_list.get_all_data(), [1, 3, 2])\n",
    "        \n",
    "        print('Success: test_remove_dupes\\n')\n",
    "\n",
    "if __name__ == '__main__':\n",
    "    test = Test()\n",
    "    linked_list = MyLinkedList(None)\n",
    "    test.test_remove_dupes(linked_list)\n",
    "    linked_list_alt = MyLinkedListAlt(None)\n",
    "    test.test_remove_dupes(linked_list_alt)"
   ]
  }
 ],
 "metadata": {
  "kernelspec": {
   "display_name": "Python 2",
   "language": "python",
   "name": "python2"
  },
  "language_info": {
   "codemirror_mode": {
    "name": "ipython",
    "version": 2
   },
   "file_extension": ".py",
   "mimetype": "text/x-python",
   "name": "python",
   "nbconvert_exporter": "python",
   "pygments_lexer": "ipython2",
   "version": "2.7.10"
  }
 },
 "nbformat": 4,
 "nbformat_minor": 0
}
