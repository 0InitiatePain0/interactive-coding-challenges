{
 "cells": [
  {
   "cell_type": "markdown",
   "metadata": {},
   "source": [
    "<small><i>This notebook was prepared by [Donne Martin](http://donnemartin.com). Source and license info is on [GitHub](https://bit.ly/code-notes).</i></small>"
   ]
  },
  {
   "cell_type": "markdown",
   "metadata": {},
   "source": [
    "## Problem: Find the kth to last element of a linked list\n",
    "\n",
    "* [Constraints](#Constraints)\n",
    "* [Test Cases](#Test-Cases)\n",
    "* [Algorithm](#Algorithm)\n",
    "* [Code](#Code)\n",
    "* [Unit Test](#Unit-Test)"
   ]
  },
  {
   "cell_type": "markdown",
   "metadata": {},
   "source": [
    "## Constraints\n",
    "\n",
    "*Problem statements are often intentionally ambiguous.  Identifying constraints and stating assumptions can help to ensure you code the intended solution.*\n",
    "\n",
    "* Can we assume k is a valid integer?\n",
    "    * Yes\n",
    "* If k = 0, does this return the last element?\n",
    "    * Yes\n",
    "* What happens if k is greater than or equal to the length of the linked list?\n",
    "    * Return None\n",
    "* Can you use additional data structures?\n",
    "    * No\n",
    "* Can we assume we already have a linked list class that can be used for this problem?\n",
    "    * Yes"
   ]
  },
  {
   "cell_type": "markdown",
   "metadata": {},
   "source": [
    "## Test Cases\n",
    "\n",
    "* Empty list\n",
    "* k is not an integer\n",
    "* k is >= the length of the linked list\n",
    "* One element, k = 0\n",
    "* General case with many elements, k < length of linked list"
   ]
  },
  {
   "cell_type": "markdown",
   "metadata": {},
   "source": [
    "## Algorithm\n",
    "\n",
    "* Setup two pointers, current and previous\n",
    "* Give current a headstart, incrementing it once for k = 1, twice for k = 2, etc\n",
    "* Increment both pointers until current reaches the end\n",
    "* Return the value of previous\n",
    "\n",
    "Complexity:\n",
    "* Time: O(n)\n",
    "* Space: In-place"
   ]
  },
  {
   "cell_type": "markdown",
   "metadata": {},
   "source": [
    "## Code"
   ]
  },
  {
   "cell_type": "code",
   "execution_count": 1,
   "metadata": {
    "collapsed": true
   },
   "outputs": [],
   "source": [
    "%run linked_list.py"
   ]
  },
  {
   "cell_type": "code",
   "execution_count": 2,
   "metadata": {
    "collapsed": false
   },
   "outputs": [],
   "source": [
    "class MyLinkedList(LinkedList):\n",
    "    def kth_to_last_elem(self, k):\n",
    "        if self.head is None:\n",
    "            return\n",
    "        if k >= len(self):\n",
    "            return\n",
    "        curr = self.head\n",
    "        prev = self.head\n",
    "        counter = 0\n",
    "        \n",
    "        # Give current a headstart, incrementing it \n",
    "        # once for k = 1, twice for k = 2, etc\n",
    "        while counter < k:\n",
    "            curr = curr.next\n",
    "            counter += 1\n",
    "            if curr is None:\n",
    "                return\n",
    "            \n",
    "        # Increment both pointers until current reaches the end\n",
    "        while curr.next is not None:\n",
    "            curr = curr.next\n",
    "            prev = prev.next\n",
    "        return prev.data"
   ]
  },
  {
   "cell_type": "markdown",
   "metadata": {},
   "source": [
    "## Unit Test"
   ]
  },
  {
   "cell_type": "markdown",
   "metadata": {},
   "source": [
    "*It is important to identify and run through general and edge cases from the [Test Cases](#Test-Cases) section by hand.  You generally will not be asked to write a unit test like what is shown below.*"
   ]
  },
  {
   "cell_type": "code",
   "execution_count": 3,
   "metadata": {
    "collapsed": false
   },
   "outputs": [
    {
     "name": "stdout",
     "output_type": "stream",
     "text": [
      "Test: Empty list\n",
      "Test: k >= len(list)\n",
      "Test: One element, k = 0\n",
      "Test: General case\n",
      "Success: test_kth_to_last_elem\n"
     ]
    }
   ],
   "source": [
    "from nose.tools import assert_equal\n",
    "\n",
    "class Test(object):\n",
    "    def test_kth_to_last_elem(self):\n",
    "        print('Test: Empty list')\n",
    "        linked_list = MyLinkedList(None)\n",
    "        assert_equal(linked_list.kth_to_last_elem(0), None)\n",
    "        \n",
    "        print('Test: k >= len(list)')\n",
    "        assert_equal(linked_list.kth_to_last_elem(100), None)\n",
    "        \n",
    "        print('Test: One element, k = 0')\n",
    "        head = Node(2)\n",
    "        linked_list = MyLinkedList(head)\n",
    "        assert_equal(linked_list.kth_to_last_elem(0), 2)\n",
    "        \n",
    "        print('Test: General case')\n",
    "        linked_list.insert_to_front(1)\n",
    "        linked_list.insert_to_front(3)\n",
    "        linked_list.insert_to_front(5)\n",
    "        linked_list.insert_to_front(7)\n",
    "        assert_equal(linked_list.kth_to_last_elem(2), 3)\n",
    "        \n",
    "        print('Success: test_kth_to_last_elem')\n",
    "\n",
    "if __name__ == '__main__':\n",
    "    test = Test()\n",
    "    test.test_kth_to_last_elem()"
   ]
  }
 ],
 "metadata": {
  "kernelspec": {
   "display_name": "Python 2",
   "language": "python",
   "name": "python2"
  },
  "language_info": {
   "codemirror_mode": {
    "name": "ipython",
    "version": 2
   },
   "file_extension": ".py",
   "mimetype": "text/x-python",
   "name": "python",
   "nbconvert_exporter": "python",
   "pygments_lexer": "ipython2",
   "version": "2.7.10"
  }
 },
 "nbformat": 4,
 "nbformat_minor": 0
}
