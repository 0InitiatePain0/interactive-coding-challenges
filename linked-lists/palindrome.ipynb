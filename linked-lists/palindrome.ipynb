{
 "cells": [
  {
   "cell_type": "markdown",
   "metadata": {},
   "source": [
    "## Problem: Determine if a linked list is a palindrome.\n",
    "\n",
    "* [Clarifying Questions](#Clarifying-Questions)\n",
    "* [Test Cases](#Test-Cases)\n",
    "* [Algorithm](#Algorithm)\n",
    "* [Code](#Code)\n",
    "* [Pythonic-Code](#Pythonic-Code)"
   ]
  },
  {
   "cell_type": "markdown",
   "metadata": {},
   "source": [
    "## Clarifying Questions\n",
    "\n",
    "* Is a single character or number a palindrome?\n",
    "    * No"
   ]
  },
  {
   "cell_type": "markdown",
   "metadata": {},
   "source": [
    "## Test Cases\n",
    "\n",
    "* Empty list\n",
    "* Single element list\n",
    "* Two element list, not a palindrome\n",
    "* Three element list, not a palindrome\n",
    "* General case: Palindrome with even length\n",
    "* General case: Palindrome with odd length"
   ]
  },
  {
   "cell_type": "markdown",
   "metadata": {},
   "source": [
    "## Algorithm\n",
    "\n",
    "* Reverse the linked list\n",
    "* Compare the reversed list with the original list\n",
    "    * Only need to compare the first half\n",
    "\n",
    "Complexity:\n",
    "* Time: O(1)\n",
    "* Space: O(n)\n",
    "\n",
    "Note:\n",
    "* We could also do this iteratively, using a stack to effectively reverse the first half of the string."
   ]
  },
  {
   "cell_type": "markdown",
   "metadata": {},
   "source": [
    "## Code"
   ]
  },
  {
   "cell_type": "code",
   "execution_count": null,
   "metadata": {
    "collapsed": true
   },
   "outputs": [],
   "source": [
    "%run linked_list.py"
   ]
  },
  {
   "cell_type": "code",
   "execution_count": null,
   "metadata": {
    "collapsed": false
   },
   "outputs": [],
   "source": [
    "class MyLinkedList(LinkedList):\n",
    "    def is_palindrome(self):\n",
    "        if self.head is None or self.head.next is None:\n",
    "            return False\n",
    "        curr = self.head\n",
    "        reversed_list = MyLinkedList()\n",
    "        length = 0\n",
    "        while curr is not None:\n",
    "            reversed_list.insert_to_front(curr.data)\n",
    "            length += 1\n",
    "            curr = curr.next\n",
    "        iterations_to_compare_half = length / 2\n",
    "        curr = self.head\n",
    "        curr_reversed = reversed_list.head\n",
    "        for _ in xrange(0, iterations_to_compare_half):\n",
    "            if curr.data != curr_reversed.data:\n",
    "                return False\n",
    "            curr = curr.next\n",
    "            curr_reversed = curr_reversed.next\n",
    "        return True"
   ]
  },
  {
   "cell_type": "code",
   "execution_count": null,
   "metadata": {
    "collapsed": false
   },
   "outputs": [],
   "source": [
    "print('Empty list')\n",
    "linked_list = MyLinkedList()\n",
    "print(linked_list.is_palindrome())\n",
    "print('Single element list')\n",
    "head = Node(1)\n",
    "linked_list = MyLinkedList(head)\n",
    "print(linked_list.is_palindrome())\n",
    "print('Two element list, not a palindrome')\n",
    "linked_list.append(2)\n",
    "print(linked_list.is_palindrome())\n",
    "print('Three element list, not a palindrome')\n",
    "linked_list.append(3)\n",
    "print(linked_list.is_palindrome())\n",
    "print('General case: Palindrome with even length')\n",
    "head = Node('a')\n",
    "linked_list = MyLinkedList(head)\n",
    "linked_list.append('b')\n",
    "linked_list.append('b')\n",
    "linked_list.append('a')\n",
    "print(linked_list.is_palindrome())\n",
    "print('General case: Palindrome with odd length')\n",
    "head = Node(1)\n",
    "linked_list = MyLinkedList(head)\n",
    "linked_list.append(2)\n",
    "linked_list.append(3)\n",
    "linked_list.append(2)\n",
    "linked_list.append(1)\n",
    "print(linked_list.is_palindrome())"
   ]
  }
 ],
 "metadata": {
  "kernelspec": {
   "display_name": "Python 2",
   "language": "python",
   "name": "python2"
  },
  "language_info": {
   "codemirror_mode": {
    "name": "ipython",
    "version": 2
   },
   "file_extension": ".py",
   "mimetype": "text/x-python",
   "name": "python",
   "nbconvert_exporter": "python",
   "pygments_lexer": "ipython2",
   "version": "2.7.9"
  }
 },
 "nbformat": 4,
 "nbformat_minor": 0
}
