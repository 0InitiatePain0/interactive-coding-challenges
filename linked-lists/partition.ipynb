{
 "cells": [
  {
   "cell_type": "markdown",
   "metadata": {},
   "source": [
    "<small><i>This notebook was prepared by [Donne Martin](http://donnemartin.com). Source and license info is on [GitHub](https://bit.ly/code-notes).</i></small>"
   ]
  },
  {
   "cell_type": "markdown",
   "metadata": {},
   "source": [
    "## Problem: Partition a linked list around a value x, such that all nodes less than x come before all nodes greater than or equal to x.\n",
    "\n",
    "* [Clarifying Questions](#Clarifying-Questions)\n",
    "* [Test Cases](#Test-Cases)\n",
    "* [Algorithm](#Algorithm)\n",
    "* [Code](#Code)"
   ]
  },
  {
   "cell_type": "markdown",
   "metadata": {},
   "source": [
    "## Clarifying Questions\n",
    "\n",
    "* Can we create additional data structures?\n",
    "    * Yes\n",
    "* Do you expect the function to return a new list?\n",
    "    * Yes"
   ]
  },
  {
   "cell_type": "markdown",
   "metadata": {},
   "source": [
    "## Test Cases\n",
    "\n",
    "* Empty list\n",
    "* One element list\n",
    "* Left linked list is empty\n",
    "* Right linked list is empty\n",
    "* X invalid\n",
    "* General case\n",
    "    * Partition = 10\n",
    "    * Input:  4, 3, 7, 8, 10, 1, 10, 12\n",
    "    * Output: 4, 3, 7, 8, 1, 10, 10, 12"
   ]
  },
  {
   "cell_type": "markdown",
   "metadata": {},
   "source": [
    "## Algorithm\n",
    "\n",
    "* Test error cases\n",
    "* Create left and right linked lists\n",
    "* For each element in the list\n",
    "    * If elem < x, append to the left list\n",
    "    * else, append to the right list\n",
    "* Merge left and right lists\n",
    "\n",
    "Complexity:\n",
    "* Time: O(n)\n",
    "* Space: O(n)"
   ]
  },
  {
   "cell_type": "markdown",
   "metadata": {},
   "source": [
    "## Code"
   ]
  },
  {
   "cell_type": "code",
   "execution_count": null,
   "metadata": {
    "collapsed": true
   },
   "outputs": [],
   "source": [
    "%run linked_list.py"
   ]
  },
  {
   "cell_type": "code",
   "execution_count": null,
   "metadata": {
    "collapsed": true
   },
   "outputs": [],
   "source": [
    "class MyLinkedList(LinkedList):\n",
    "    def partition(self, data):\n",
    "        if self.head is None:\n",
    "            return\n",
    "        if type(data) != int:\n",
    "            raise ValueError('Invalid int argument: data')\n",
    "        left = MyLinkedList(None)\n",
    "        right = MyLinkedList(None)\n",
    "        curr = self.head\n",
    "        while curr is not None:\n",
    "            if curr.data < data:\n",
    "                left.append(curr.data)\n",
    "            else:\n",
    "                right.append(curr.data)\n",
    "            curr = curr.next\n",
    "        curr_left = left.head\n",
    "        if curr_left is None:\n",
    "            return right\n",
    "        else:\n",
    "            while curr_left.next is not None:\n",
    "                curr_left = curr_left.next\n",
    "            curr_left.next = right.head\n",
    "            return left"
   ]
  },
  {
   "cell_type": "code",
   "execution_count": null,
   "metadata": {
    "collapsed": false
   },
   "outputs": [],
   "source": [
    "print('Empty list')\n",
    "linked_list = MyLinkedList(None)\n",
    "linked_list.partition(10)\n",
    "linked_list.print_list()\n",
    "print('X invalid')\n",
    "head = Node(12)\n",
    "linked_list = MyLinkedList(head)\n",
    "try:\n",
    "    linked_list.partition('a')\n",
    "except ValueError as err:\n",
    "    print(err)\n",
    "linked_list.print_list()\n",
    "print('One element list')\n",
    "print('Left linked list is empty')\n",
    "linked_list.partition(1)\n",
    "linked_list.print_list()\n",
    "print('Right linked list is empty')\n",
    "linked_list.partition(20)\n",
    "linked_list.print_list()\n",
    "print('General case')\n",
    "# Partition = 10\n",
    "# Input  4, 3, 7, 8, 10, 1, 10, 12\n",
    "# Output 4, 3, 7, 8, 1, 10, 10, 12\n",
    "linked_list.insert_to_front(10)\n",
    "linked_list.insert_to_front(1)\n",
    "linked_list.insert_to_front(10)\n",
    "linked_list.insert_to_front(8)\n",
    "linked_list.insert_to_front(7)\n",
    "linked_list.insert_to_front(3)\n",
    "linked_list.insert_to_front(4)\n",
    "partitioned_list = linked_list.partition(10)\n",
    "partitioned_list.print_list()"
   ]
  }
 ],
 "metadata": {
  "kernelspec": {
   "display_name": "Python 2",
   "language": "python",
   "name": "python2"
  },
  "language_info": {
   "codemirror_mode": {
    "name": "ipython",
    "version": 2
   },
   "file_extension": ".py",
   "mimetype": "text/x-python",
   "name": "python",
   "nbconvert_exporter": "python",
   "pygments_lexer": "ipython2",
   "version": "2.7.10"
  }
 },
 "nbformat": 4,
 "nbformat_minor": 0
}
