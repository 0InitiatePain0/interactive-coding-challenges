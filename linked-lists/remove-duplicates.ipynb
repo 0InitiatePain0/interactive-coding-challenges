{
 "cells": [
  {
   "cell_type": "markdown",
   "metadata": {},
   "source": [
    "<small><i>This notebook was prepared by [Donne Martin](http://donnemartin.com). Source and license info is on [GitHub](https://bit.ly/code-notes).</i></small>"
   ]
  },
  {
   "cell_type": "markdown",
   "metadata": {},
   "source": [
    "## Problem: Remove duplicates from a linked list\n",
    "\n",
    "* [Clarifying Questions](#Clarifying-Questions)\n",
    "* [Test Cases](#Test-Cases)\n",
    "* [Algorithm: Hash Map Lookup](#Algorithm:-Hash-Map-Lookup)\n",
    "* [Code: Hash Map Lookup](#Code:-Hash-Map-Lookup)\n",
    "* [Algorithm: In-Place](#Algorithm:-In-Place)\n",
    "* [Code: In-Place](#Code:-In-Place)"
   ]
  },
  {
   "cell_type": "markdown",
   "metadata": {},
   "source": [
    "## Clarifying Questions\n",
    "\n",
    "* Is this a singly or doubly linked list?\n",
    "    * Singly\n",
    "* Can you insert NULL values in the list?\n",
    "    * No\n",
    "* Can you use additional data structures?\n",
    "    * Implement both solutions"
   ]
  },
  {
   "cell_type": "markdown",
   "metadata": {},
   "source": [
    "## Test Cases\n",
    "\n",
    "* Empty linked list\n",
    "* One element linked list\n",
    "* Multiple elements\n",
    "* No duplicates\n",
    "* One or more duplicates"
   ]
  },
  {
   "cell_type": "markdown",
   "metadata": {},
   "source": [
    "## Algorithm: Hash Map Lookup\n",
    "\n",
    "* For each node\n",
    "    * If the node's value is in the hash map\n",
    "        * Delete the node\n",
    "    * Else\n",
    "        * Add node's value to the hash map\n",
    "\n",
    "Complexity:\n",
    "* Time: O(n)\n",
    "* Space: O(m) where m is the number of values in the hash map\n",
    "\n",
    "Note:\n",
    "* Deletion requires two pointers, one to the previous node and one to the current node"
   ]
  },
  {
   "cell_type": "markdown",
   "metadata": {},
   "source": [
    "## Code: Hash Map Lookup"
   ]
  },
  {
   "cell_type": "code",
   "execution_count": null,
   "metadata": {
    "collapsed": true
   },
   "outputs": [],
   "source": [
    "%run linked_list.py"
   ]
  },
  {
   "cell_type": "code",
   "execution_count": null,
   "metadata": {
    "collapsed": false
   },
   "outputs": [],
   "source": [
    "class MyLinkedList(LinkedList):\n",
    "    def remove_dupes(self):\n",
    "        seen_data = set()\n",
    "        curr = self.head\n",
    "        prev = None\n",
    "        while curr is not None:\n",
    "            if curr.data in seen_data:\n",
    "                prev.next = curr.next\n",
    "            else:\n",
    "                seen_data.add(curr.data)\n",
    "                prev = curr\n",
    "            curr = curr.next"
   ]
  },
  {
   "cell_type": "code",
   "execution_count": null,
   "metadata": {
    "collapsed": false
   },
   "outputs": [],
   "source": [
    "# Empty linked list\n",
    "linked_list = MyLinkedList(None)\n",
    "linked_list.remove_dupes()\n",
    "linked_list.print_list()\n",
    "# One element linked list\n",
    "head = Node(2)\n",
    "linked_list = MyLinkedList(head)\n",
    "linked_list.remove_dupes()\n",
    "linked_list.print_list()\n",
    "# Multiple elements\n",
    "# One or more duplicates\n",
    "linked_list.insert_to_front(1)\n",
    "linked_list.insert_to_front(3)\n",
    "linked_list.insert_to_front(1)\n",
    "linked_list.insert_to_front(1)\n",
    "linked_list.remove_dupes()\n",
    "linked_list.print_list()\n",
    "# No duplicates\n",
    "linked_list.remove_dupes()\n",
    "linked_list.print_list()"
   ]
  },
  {
   "cell_type": "markdown",
   "metadata": {},
   "source": [
    "## Algorithm: In-Place\n",
    "\n",
    "* For each node\n",
    "    * Compare node with every other node\n",
    "        * If the node's value is in the hash map\n",
    "            * Delete the node\n",
    "        * Else\n",
    "            * Add node's value to the hash map\n",
    "\n",
    "Complexity:\n",
    "* Time: O(n^2)\n",
    "* Space: In-place\n",
    "\n",
    "Note:\n",
    "* Deletion requires two pointers, one to the previous node and one to the current node\n",
    "* We'll need to use a 'runner' to check every other node and compare it to the current node"
   ]
  },
  {
   "cell_type": "markdown",
   "metadata": {},
   "source": [
    "## Code: In-Place"
   ]
  },
  {
   "cell_type": "code",
   "execution_count": null,
   "metadata": {
    "collapsed": false
   },
   "outputs": [],
   "source": [
    "class MyLinkedList(LinkedList):\n",
    "        \n",
    "    def remove_dupes(self):\n",
    "        curr = self.head\n",
    "        while curr is not None:\n",
    "            runner = curr\n",
    "            while runner.next is not None:\n",
    "                if runner.next.data == curr.data:\n",
    "                    runner.next = runner.next.next\n",
    "                else:\n",
    "                    runner = runner.next\n",
    "            curr = curr.next"
   ]
  },
  {
   "cell_type": "code",
   "execution_count": null,
   "metadata": {
    "collapsed": true
   },
   "outputs": [],
   "source": [
    "# Empty linked list\n",
    "linked_list = MyLinkedList(None)\n",
    "linked_list.remove_dupes()\n",
    "linked_list.print_list()\n",
    "# One element linked list\n",
    "head = Node(2)\n",
    "linked_list = MyLinkedList(head)\n",
    "linked_list.remove_dupes()\n",
    "linked_list.print_list()\n",
    "# Multiple elements\n",
    "# One or more duplicates\n",
    "linked_list.insert_to_front(1)\n",
    "linked_list.insert_to_front(3)\n",
    "linked_list.insert_to_front(1)\n",
    "linked_list.insert_to_front(1)\n",
    "linked_list.remove_dupes()\n",
    "linked_list.print_list()\n",
    "# No duplicates\n",
    "linked_list.remove_dupes()\n",
    "linked_list.print_list()"
   ]
  }
 ],
 "metadata": {
  "kernelspec": {
   "display_name": "Python 2",
   "language": "python",
   "name": "python2"
  },
  "language_info": {
   "codemirror_mode": {
    "name": "ipython",
    "version": 2
   },
   "file_extension": ".py",
   "mimetype": "text/x-python",
   "name": "python",
   "nbconvert_exporter": "python",
   "pygments_lexer": "ipython2",
   "version": "2.7.10"
  }
 },
 "nbformat": 4,
 "nbformat_minor": 0
}
