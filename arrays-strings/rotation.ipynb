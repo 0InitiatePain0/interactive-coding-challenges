{
 "cells": [
  {
   "cell_type": "markdown",
   "metadata": {},
   "source": [
    "<small><i>This notebook was prepared by [Donne Martin](http://donnemartin.com). Source and license info is on [GitHub](https://bit.ly/code-notes).</i></small>"
   ]
  },
  {
   "cell_type": "markdown",
   "metadata": {},
   "source": [
    "## Problem: Determine if a string s1 is a rotation of another string s2.  Also write a function is_substring which you can only call once to determine whether a rotation occurs\n",
    "\n",
    "* [Clarifying Questions](#Clarifying-Questions)\n",
    "* [Test Cases](#Test-Cases)\n",
    "* [Algorithm](#Algorithm)\n",
    "* [Code](#Code)\n",
    "* [Unit Test](#Unit-Test)"
   ]
  },
  {
   "cell_type": "markdown",
   "metadata": {},
   "source": [
    "## Clarifying Questions\n",
    "\n",
    "*Problem statements are sometimes intentionally ambiguous.  Asking clarifying questions, identifying constraints, and stating assumptions help to ensure you code the intended solution.*\n",
    "\n",
    "* Can I assume the string is ASCII?\n",
    "    * Yes\n",
    "    * Note: Unicode strings could require special handling depending on your language\n",
    "* Can you use additional data structures?  \n",
    "    * Yes\n",
    "* Is this case sensitive?\n",
    "    * Yes"
   ]
  },
  {
   "cell_type": "markdown",
   "metadata": {},
   "source": [
    "## Test Cases\n",
    "\n",
    "*Identifying and running through general and edge cases are important.  You generally will not be asked to write a unit test like what is shown below.*\n",
    "\n",
    "* Any strings that differ in size results in False\n",
    "* NULL, 'foo' -> False (any NULL results in False)\n",
    "* ' ', 'foo' -> False\n",
    "* ' ', ' ' -> True\n",
    "* 'foobarbaz', 'barbazfoo' -> True"
   ]
  },
  {
   "cell_type": "markdown",
   "metadata": {},
   "source": [
    "## Algorithm\n",
    "\n",
    "Using the following test case:\n",
    "* s1 = 'barbazfoo'\n",
    "* s2 = 'foobarbaz'\n",
    "\n",
    "We see that if we can use the given is_substring method if we take compare s2 with s1 + s1:\n",
    "* s2 = 'foobarbaz'\n",
    "* s3 = 'barbaz*foobarbaz*foo'\n",
    "\n",
    "Complexity:\n",
    "* Time: O(n)\n",
    "* Space: O(2n) of additional space for s3, which reduces to O(n)"
   ]
  },
  {
   "cell_type": "markdown",
   "metadata": {},
   "source": [
    "## Code"
   ]
  },
  {
   "cell_type": "code",
   "execution_count": 1,
   "metadata": {
    "collapsed": false
   },
   "outputs": [],
   "source": [
    "def is_substring(s1, s2):\n",
    "    return s1 in s2\n",
    "\n",
    "def is_rotation(s1, s2):\n",
    "    if s1 is None or s2 is None:\n",
    "        return False\n",
    "    if len(s1) != len(s2):\n",
    "        return False\n",
    "    s3 = s1 + s1\n",
    "    return is_substring(s2, s3)"
   ]
  },
  {
   "cell_type": "markdown",
   "metadata": {},
   "source": [
    "## Unit Test"
   ]
  },
  {
   "cell_type": "code",
   "execution_count": 2,
   "metadata": {
    "collapsed": false
   },
   "outputs": [
    {
     "name": "stdout",
     "output_type": "stream",
     "text": [
      "Success: test_is_rotation\n"
     ]
    }
   ],
   "source": [
    "from nose.tools import assert_equal\n",
    "\n",
    "class Test(object):\n",
    "    def test_is_rotation(self, func):\n",
    "        assert_equal(func('o', 'oo'), False)\n",
    "        assert_equal(func(None, 'foo'), False)\n",
    "        assert_equal(func('', 'foo'), False)\n",
    "        assert_equal(func('', ''), True)\n",
    "        assert_equal(func('foobarbaz', 'barbazfoo'), True)\n",
    "        print('Success: test_is_rotation')\n",
    "\n",
    "if __name__ == '__main__':\n",
    "    test = Test()\n",
    "    test.test_is_rotation(is_rotation)"
   ]
  }
 ],
 "metadata": {
  "kernelspec": {
   "display_name": "Python 2",
   "language": "python",
   "name": "python2"
  },
  "language_info": {
   "codemirror_mode": {
    "name": "ipython",
    "version": 2
   },
   "file_extension": ".py",
   "mimetype": "text/x-python",
   "name": "python",
   "nbconvert_exporter": "python",
   "pygments_lexer": "ipython2",
   "version": "2.7.10"
  }
 },
 "nbformat": 4,
 "nbformat_minor": 0
}
