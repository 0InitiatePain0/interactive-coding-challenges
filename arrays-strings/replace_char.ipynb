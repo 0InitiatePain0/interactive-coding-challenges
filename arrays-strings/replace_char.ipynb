{
 "cells": [
  {
   "cell_type": "markdown",
   "metadata": {},
   "source": [
    "<small><i>This notebook was prepared by [Donne Martin](http://donnemartin.com). Source and license info is on [GitHub](https://bit.ly/code-notes).</i></small>"
   ]
  },
  {
   "cell_type": "markdown",
   "metadata": {},
   "source": [
    "## Problem: Given a string, replace in-place all spaces with '%20'\n",
    "\n",
    "* [Clarifying Questions](#Clarifying-Questions)\n",
    "* [Test Cases](#Test-Cases)\n",
    "* [Algorithm](#Algorithm)\n",
    "* [Code](#Code)\n",
    "* [Pythonic-Code: Not In-Place](#Pythonic-Code:-Not-In-Place)"
   ]
  },
  {
   "cell_type": "markdown",
   "metadata": {},
   "source": [
    "## Clarifying Questions\n",
    "\n",
    "* Is the string ASCII (extended)?  Or Unicode?\n",
    "    * ASCII extended, which is 256 characters\n",
    "* Is there enough space in the data structure for this operation?\n",
    "    * Yes"
   ]
  },
  {
   "cell_type": "markdown",
   "metadata": {},
   "source": [
    "## Test Cases\n",
    "\n",
    "* NULL->NULL\n",
    "* ' ' -> '%20'\n",
    "* ' foo bar ' -> '%20foo%20bar%20'\n",
    "* 'foo' -> 'foo'"
   ]
  },
  {
   "cell_type": "code",
   "execution_count": null,
   "metadata": {
    "collapsed": true
   },
   "outputs": [],
   "source": [
    "from nose.tools import assert_equal\n",
    "\n",
    "class Test(object):\n",
    "    def test_replace_char(self, func):\n",
    "        str0 = None\n",
    "        str1 = bytearray(' ||')\n",
    "        str2 = bytearray(' foo bar ||||||')\n",
    "        str3 = bytearray('foo')\n",
    "        encode_spaces(str0, 0)\n",
    "        encode_spaces(str1, 1)\n",
    "        encode_spaces(str2, 9)\n",
    "        encode_spaces(str3, 3)\n",
    "        assert_equal(str0, None)\n",
    "        assert_equal(str1, '%20')\n",
    "        assert_equal(str2, '%20foo%20bar%20')\n",
    "        assert_equal(str3, 'foo')\n",
    "\n",
    "def run_tests(func):\n",
    "    test = Test()\n",
    "    test.test_replace_char(func)"
   ]
  },
  {
   "cell_type": "markdown",
   "metadata": {},
   "source": [
    "## Algorithm\n",
    "\n",
    "Since Python strings are immutable, we'll use a bytearray instead to exercise in-place string manipulation as you would get with a C string (which is null terminated, as seen in the diagram below).  For the python bytearray we will not use a null terminator.\n",
    "\n",
    "![alt text](https://raw.githubusercontent.com/donnemartin/algorithms-data-structures/master/images/replace_string.jpg)\n",
    "\n",
    "* Count the number of spaces in the bytearray\n",
    "* Determine the new bytearray length\n",
    "* For each character code in the bytearray, starting from the end of the string\n",
    "    * If the character code is a space\n",
    "        * bytearray[new length] = '0',\n",
    "        * bytearray[new length - 1] = '2',\n",
    "        * bytearray[new length - 2] = '%',\n",
    "        * new length -= 3\n",
    "    * Else\n",
    "        * bytearray[new length] = character code,\n",
    "        * new length -= 1\n",
    "\n",
    "Complexity:\n",
    "* Time: O(n)\n",
    "* Space: In-place"
   ]
  },
  {
   "cell_type": "markdown",
   "metadata": {},
   "source": [
    "## Code"
   ]
  },
  {
   "cell_type": "code",
   "execution_count": null,
   "metadata": {
    "collapsed": false
   },
   "outputs": [],
   "source": [
    "def encode_spaces(string, length):\n",
    "    if string is None:\n",
    "        return\n",
    "    num_spaces = string.count(' ')\n",
    "    new_length = length + 2 * num_spaces - 1\n",
    "    for i in xrange(length-1, -1, -1):\n",
    "        if chr(string[i]) == ' ':\n",
    "            string[new_length] = '0'\n",
    "            string[new_length - 1] = '2'\n",
    "            string[new_length - 2] = '%'\n",
    "            new_length -= 3\n",
    "        else:\n",
    "            string[new_length] = string[i]\n",
    "            new_length -= 1\n",
    "\n",
    "run_tests(encode_spaces)"
   ]
  },
  {
   "cell_type": "markdown",
   "metadata": {},
   "source": [
    "## Pythonic-Code: Not In-Place\n",
    "\n",
    "The following code is Pythonic, but requires using additional data structures as Python strings are immutable.  You could use a bytearray or a list instead of a string to simulate manipulating an array of characters."
   ]
  },
  {
   "cell_type": "code",
   "execution_count": null,
   "metadata": {
    "collapsed": false
   },
   "outputs": [],
   "source": [
    "import re\n",
    "\n",
    "def encode_spaces_alt(string):\n",
    "    return re.sub(' ', '%20', string)\n",
    "\n",
    "def encode_spaces_alt2(string):\n",
    "    return string.replace(' ', '%20')\n",
    "\n",
    "run_tests(encode_spaces_alt)\n",
    "run_tests(encode_spaces_alt2)"
   ]
  }
 ],
 "metadata": {
  "kernelspec": {
   "display_name": "Python 2",
   "language": "python",
   "name": "python2"
  },
  "language_info": {
   "codemirror_mode": {
    "name": "ipython",
    "version": 2
   },
   "file_extension": ".py",
   "mimetype": "text/x-python",
   "name": "python",
   "nbconvert_exporter": "python",
   "pygments_lexer": "ipython2",
   "version": "2.7.10"
  }
 },
 "nbformat": 4,
 "nbformat_minor": 0
}
