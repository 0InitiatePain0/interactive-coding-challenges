{
 "cells": [
  {
   "cell_type": "markdown",
   "metadata": {},
   "source": [
    "## Problem: Implement insertion sort.\n",
    "\n",
    "* [Clarifying Questions](#Clarifying-Questions)\n",
    "* [Test Cases](#Test-Cases)\n",
    "* [Algorithm](#Algorithm)\n",
    "* [Code](#Code)\n",
    "* [Pythonic-Code](#Pythonic-Code)"
   ]
  },
  {
   "cell_type": "markdown",
   "metadata": {},
   "source": [
    "## Clarifying Questions\n",
    "\n",
    "* Are we sorting integers?\n",
    "    * Yes\n",
    "* Can we assume the input is valid integers?\n",
    "    * Yes\n",
    "* Can we have duplicate integers?\n",
    "    * Yes"
   ]
  },
  {
   "cell_type": "markdown",
   "metadata": {},
   "source": [
    "## Test Cases\n",
    "\n",
    "* Empty input\n",
    "* One element\n",
    "* Two or more elements"
   ]
  },
  {
   "cell_type": "markdown",
   "metadata": {},
   "source": [
    "## Algorithm\n",
    "\n",
    "Wikipedia's animation:\n",
    "![alt text](http://upload.wikimedia.org/wikipedia/commons/0/0f/Insertion-sort-example-300px.gif)\n",
    "\n",
    "* For each value index 1 to n - 1\n",
    "    * Compare with all elements to the left of the current value to determine new insertion point\n",
    "        * Hold current value in temp variable\n",
    "        * Shift elements from new insertion point right\n",
    "        * Insert value in temp variable\n",
    "        * Break\n",
    "\n",
    "Complexity:\n",
    "* Time: O(n^2) avarage, worst.  O(1) best if input is already sorted.\n",
    "* Space: O(1)"
   ]
  },
  {
   "cell_type": "markdown",
   "metadata": {},
   "source": [
    "## Code"
   ]
  },
  {
   "cell_type": "code",
   "execution_count": null,
   "metadata": {
    "collapsed": false
   },
   "outputs": [],
   "source": [
    "def insertion_sort(data):\n",
    "    if len(data) < 2:\n",
    "        return\n",
    "    for r in xrange(1, len(data)):\n",
    "        for l in xrange(0, r):\n",
    "            if data[l] > data[r]:\n",
    "                temp = data[r]\n",
    "                data[l+1:r+1] = data[l:r]\n",
    "                data[l] = temp\n",
    "                break\n",
    "\n",
    "print('Empty input')\n",
    "data = []\n",
    "insertion_sort(data)\n",
    "print(data)\n",
    "print('One element')\n",
    "data = [5]\n",
    "insertion_sort(data)\n",
    "print(data)\n",
    "print('Two or more elements')\n",
    "data = [5, 1, 7, 2, 6, -3, 5, 7, -1]\n",
    "insertion_sort(data)\n",
    "print(data)"
   ]
  }
 ],
 "metadata": {
  "kernelspec": {
   "display_name": "Python 2",
   "language": "python",
   "name": "python2"
  },
  "language_info": {
   "codemirror_mode": {
    "name": "ipython",
    "version": 2
   },
   "file_extension": ".py",
   "mimetype": "text/x-python",
   "name": "python",
   "nbconvert_exporter": "python",
   "pygments_lexer": "ipython2",
   "version": "2.7.9"
  }
 },
 "nbformat": 4,
 "nbformat_minor": 0
}
